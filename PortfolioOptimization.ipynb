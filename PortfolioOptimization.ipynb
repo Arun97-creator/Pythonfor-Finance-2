{
  "nbformat": 4,
  "nbformat_minor": 0,
  "metadata": {
    "colab": {
      "name": "PortfolioOptimization.ipynb",
      "provenance": []
    },
    "kernelspec": {
      "name": "python3",
      "display_name": "Python 3"
    }
  },
  "cells": [
    {
      "cell_type": "markdown",
      "metadata": {
        "id": "RmESeZbcI_I8"
      },
      "source": [
        "This program attempts to optimize a users portfolio using the Efficient Frontier"
      ]
    },
    {
      "cell_type": "code",
      "metadata": {
        "id": "sXdIONXoJCHg"
      },
      "source": [
        "from pandas_datareader import data as web\n",
        "import pandas as pd\n",
        "import numpy as np\n",
        "from datetime import datetime\n",
        "import matplotlib.pyplot as plt\n",
        "plt.style.use('fivethirtyeight')"
      ],
      "execution_count": 1,
      "outputs": []
    },
    {
      "cell_type": "code",
      "metadata": {
        "id": "UHdgmwpwJB3w"
      },
      "source": [
        "# Get the stock symbols/ tickers in the portfolio\n",
        "assets = ['FB','AMZN','AAPL','NFLX','GOOG',]"
      ],
      "execution_count": 2,
      "outputs": []
    },
    {
      "cell_type": "code",
      "metadata": {
        "id": "AnfCWkdVJF6l"
      },
      "source": [
        "# Assign weights to stocks\n",
        "weights = np.array([0.2,0.2,0.2,0.2,0.2])\n"
      ],
      "execution_count": 3,
      "outputs": []
    },
    {
      "cell_type": "code",
      "metadata": {
        "id": "9SfghOQqJLim"
      },
      "source": [
        "# Get the stock starting date\n",
        "stockStartDate = '2013-01-01'"
      ],
      "execution_count": 4,
      "outputs": []
    },
    {
      "cell_type": "code",
      "metadata": {
        "colab": {
          "base_uri": "https://localhost:8080/",
          "height": 35
        },
        "id": "b9PmkSnSJN6l",
        "outputId": "db8bde2d-13e8-434a-9b8b-9dfd164243a6"
      },
      "source": [
        "# Get the stock ending date (today)\n",
        "today = datetime.today().strftime('%Y-%m-%d')\n",
        "today"
      ],
      "execution_count": 5,
      "outputs": [
        {
          "output_type": "execute_result",
          "data": {
            "application/vnd.google.colaboratory.intrinsic+json": {
              "type": "string"
            },
            "text/plain": [
              "'2020-11-21'"
            ]
          },
          "metadata": {
            "tags": []
          },
          "execution_count": 5
        }
      ]
    },
    {
      "cell_type": "code",
      "metadata": {
        "id": "DVMd2AweJPz2"
      },
      "source": [
        "# create a dataframe to store the adjusted close prices of the stock\n",
        "df = pd.DataFrame()\n",
        "\n",
        "# Store the adjusted close priceof the stock into the df\n",
        "for stock in assets:\n",
        "    df[stock] = web.DataReader(stock,data_source='yahoo',start = stockStartDate,end = today)['Adj Close']"
      ],
      "execution_count": 6,
      "outputs": []
    },
    {
      "cell_type": "code",
      "metadata": {
        "colab": {
          "base_uri": "https://localhost:8080/",
          "height": 235
        },
        "id": "0iskqWRoJSHY",
        "outputId": "676c10ef-a70e-47e0-fe98-b841f8f12a11"
      },
      "source": [
        "df.head() # Adj Close Prices of all the above stocks"
      ],
      "execution_count": 7,
      "outputs": [
        {
          "output_type": "execute_result",
          "data": {
            "text/html": [
              "<div>\n",
              "<style scoped>\n",
              "    .dataframe tbody tr th:only-of-type {\n",
              "        vertical-align: middle;\n",
              "    }\n",
              "\n",
              "    .dataframe tbody tr th {\n",
              "        vertical-align: top;\n",
              "    }\n",
              "\n",
              "    .dataframe thead th {\n",
              "        text-align: right;\n",
              "    }\n",
              "</style>\n",
              "<table border=\"1\" class=\"dataframe\">\n",
              "  <thead>\n",
              "    <tr style=\"text-align: right;\">\n",
              "      <th></th>\n",
              "      <th>FB</th>\n",
              "      <th>AMZN</th>\n",
              "      <th>AAPL</th>\n",
              "      <th>NFLX</th>\n",
              "      <th>GOOG</th>\n",
              "    </tr>\n",
              "    <tr>\n",
              "      <th>Date</th>\n",
              "      <th></th>\n",
              "      <th></th>\n",
              "      <th></th>\n",
              "      <th></th>\n",
              "      <th></th>\n",
              "    </tr>\n",
              "  </thead>\n",
              "  <tbody>\n",
              "    <tr>\n",
              "      <th>2013-01-02</th>\n",
              "      <td>28.000000</td>\n",
              "      <td>257.309998</td>\n",
              "      <td>16.926661</td>\n",
              "      <td>13.144286</td>\n",
              "      <td>360.274597</td>\n",
              "    </tr>\n",
              "    <tr>\n",
              "      <th>2013-01-03</th>\n",
              "      <td>27.770000</td>\n",
              "      <td>258.480011</td>\n",
              "      <td>16.713015</td>\n",
              "      <td>13.798572</td>\n",
              "      <td>360.483826</td>\n",
              "    </tr>\n",
              "    <tr>\n",
              "      <th>2013-01-04</th>\n",
              "      <td>28.760000</td>\n",
              "      <td>259.149994</td>\n",
              "      <td>16.247477</td>\n",
              "      <td>13.711429</td>\n",
              "      <td>367.607117</td>\n",
              "    </tr>\n",
              "    <tr>\n",
              "      <th>2013-01-07</th>\n",
              "      <td>29.420000</td>\n",
              "      <td>268.459991</td>\n",
              "      <td>16.151909</td>\n",
              "      <td>14.171429</td>\n",
              "      <td>366.003143</td>\n",
              "    </tr>\n",
              "    <tr>\n",
              "      <th>2013-01-08</th>\n",
              "      <td>29.059999</td>\n",
              "      <td>266.380005</td>\n",
              "      <td>16.195379</td>\n",
              "      <td>13.880000</td>\n",
              "      <td>365.280823</td>\n",
              "    </tr>\n",
              "  </tbody>\n",
              "</table>\n",
              "</div>"
            ],
            "text/plain": [
              "                   FB        AMZN       AAPL       NFLX        GOOG\n",
              "Date                                                               \n",
              "2013-01-02  28.000000  257.309998  16.926661  13.144286  360.274597\n",
              "2013-01-03  27.770000  258.480011  16.713015  13.798572  360.483826\n",
              "2013-01-04  28.760000  259.149994  16.247477  13.711429  367.607117\n",
              "2013-01-07  29.420000  268.459991  16.151909  14.171429  366.003143\n",
              "2013-01-08  29.059999  266.380005  16.195379  13.880000  365.280823"
            ]
          },
          "metadata": {
            "tags": []
          },
          "execution_count": 7
        }
      ]
    },
    {
      "cell_type": "code",
      "metadata": {
        "colab": {
          "base_uri": "https://localhost:8080/",
          "height": 301
        },
        "id": "KTX06O5GJUX5",
        "outputId": "f8f64a92-f484-4c5e-93db-d9eef881a245"
      },
      "source": [
        "# Visually show all the stocks\n",
        "title = \"Portfolio Adj. Close Price History\"\n",
        "\n",
        "# Get the stocks\n",
        "my_stocks = df\n",
        "\n",
        "# Create and plot the graph\n",
        "\n",
        "for c in my_stocks.columns.values:\n",
        "    plt.plot(my_stocks[c],label =c)\n",
        "plt.title(title)\n",
        "plt.xlabel('Date', fontsize = 18)\n",
        "plt.ylabel('Adj. Price USD($)', fontsize =18)\n",
        "plt.legend(my_stocks.columns.values,loc='upper left')\n",
        "plt.show()"
      ],
      "execution_count": 8,
      "outputs": [
        {
          "output_type": "display_data",
          "data": {
            "image/png": "[encoded data removed]",
            "text/plain": [
              "<Figure size 432x288 with 1 Axes>"
            ]
          },
          "metadata": {
            "tags": [],
            "needs_background": "light"
          }
        }
      ]
    },
    {
      "cell_type": "code",
      "metadata": {
        "colab": {
          "base_uri": "https://localhost:8080/",
          "height": 450
        },
        "id": "tYUcbxPcJW_4",
        "outputId": "2939dedd-bb46-40f7-cf8b-15402f2d46c1"
      },
      "source": [
        "# Show the daily simple return\n",
        "returns = df.pct_change()\n",
        "returns"
      ],
      "execution_count": 9,
      "outputs": [
        {
          "output_type": "execute_result",
          "data": {
            "text/html": [
              "<div>\n",
              "<style scoped>\n",
              "    .dataframe tbody tr th:only-of-type {\n",
              "        vertical-align: middle;\n",
              "    }\n",
              "\n",
              "    .dataframe tbody tr th {\n",
              "        vertical-align: top;\n",
              "    }\n",
              "\n",
              "    .dataframe thead th {\n",
              "        text-align: right;\n",
              "    }\n",
              "</style>\n",
              "<table border=\"1\" class=\"dataframe\">\n",
              "  <thead>\n",
              "    <tr style=\"text-align: right;\">\n",
              "      <th></th>\n",
              "      <th>FB</th>\n",
              "      <th>AMZN</th>\n",
              "      <th>AAPL</th>\n",
              "      <th>NFLX</th>\n",
              "      <th>GOOG</th>\n",
              "    </tr>\n",
              "    <tr>\n",
              "      <th>Date</th>\n",
              "      <th></th>\n",
              "      <th></th>\n",
              "      <th></th>\n",
              "      <th></th>\n",
              "      <th></th>\n",
              "    </tr>\n",
              "  </thead>\n",
              "  <tbody>\n",
              "    <tr>\n",
              "      <th>2013-01-02</th>\n",
              "      <td>NaN</td>\n",
              "      <td>NaN</td>\n",
              "      <td>NaN</td>\n",
              "      <td>NaN</td>\n",
              "      <td>NaN</td>\n",
              "    </tr>\n",
              "    <tr>\n",
              "      <th>2013-01-03</th>\n",
              "      <td>-0.008214</td>\n",
              "      <td>0.004547</td>\n",
              "      <td>-0.012622</td>\n",
              "      <td>0.049777</td>\n",
              "      <td>0.000581</td>\n",
              "    </tr>\n",
              "    <tr>\n",
              "      <th>2013-01-04</th>\n",
              "      <td>0.035650</td>\n",
              "      <td>0.002592</td>\n",
              "      <td>-0.027855</td>\n",
              "      <td>-0.006315</td>\n",
              "      <td>0.019760</td>\n",
              "    </tr>\n",
              "    <tr>\n",
              "      <th>2013-01-07</th>\n",
              "      <td>0.022949</td>\n",
              "      <td>0.035925</td>\n",
              "      <td>-0.005882</td>\n",
              "      <td>0.033549</td>\n",
              "      <td>-0.004363</td>\n",
              "    </tr>\n",
              "    <tr>\n",
              "      <th>2013-01-08</th>\n",
              "      <td>-0.012237</td>\n",
              "      <td>-0.007748</td>\n",
              "      <td>0.002691</td>\n",
              "      <td>-0.020565</td>\n",
              "      <td>-0.001974</td>\n",
              "    </tr>\n",
              "    <tr>\n",
              "      <th>...</th>\n",
              "      <td>...</td>\n",
              "      <td>...</td>\n",
              "      <td>...</td>\n",
              "      <td>...</td>\n",
              "      <td>...</td>\n",
              "    </tr>\n",
              "    <tr>\n",
              "      <th>2020-11-16</th>\n",
              "      <td>0.007258</td>\n",
              "      <td>0.000719</td>\n",
              "      <td>0.008720</td>\n",
              "      <td>-0.007746</td>\n",
              "      <td>0.002454</td>\n",
              "    </tr>\n",
              "    <tr>\n",
              "      <th>2020-11-17</th>\n",
              "      <td>-0.014196</td>\n",
              "      <td>0.001469</td>\n",
              "      <td>-0.007564</td>\n",
              "      <td>0.003193</td>\n",
              "      <td>-0.006304</td>\n",
              "    </tr>\n",
              "    <tr>\n",
              "      <th>2020-11-18</th>\n",
              "      <td>-0.011018</td>\n",
              "      <td>-0.009631</td>\n",
              "      <td>-0.011391</td>\n",
              "      <td>0.002414</td>\n",
              "      <td>-0.013202</td>\n",
              "    </tr>\n",
              "    <tr>\n",
              "      <th>2020-11-19</th>\n",
              "      <td>0.003567</td>\n",
              "      <td>0.003722</td>\n",
              "      <td>0.005168</td>\n",
              "      <td>0.005978</td>\n",
              "      <td>0.009812</td>\n",
              "    </tr>\n",
              "    <tr>\n",
              "      <th>2020-11-20</th>\n",
              "      <td>-0.011871</td>\n",
              "      <td>-0.005653</td>\n",
              "      <td>-0.010958</td>\n",
              "      <td>0.007366</td>\n",
              "      <td>-0.012319</td>\n",
              "    </tr>\n",
              "  </tbody>\n",
              "</table>\n",
              "<p>1988 rows × 5 columns</p>\n",
              "</div>"
            ],
            "text/plain": [
              "                  FB      AMZN      AAPL      NFLX      GOOG\n",
              "Date                                                        \n",
              "2013-01-02       NaN       NaN       NaN       NaN       NaN\n",
              "2013-01-03 -0.008214  0.004547 -0.012622  0.049777  0.000581\n",
              "2013-01-04  0.035650  0.002592 -0.027855 -0.006315  0.019760\n",
              "2013-01-07  0.022949  0.035925 -0.005882  0.033549 -0.004363\n",
              "2013-01-08 -0.012237 -0.007748  0.002691 -0.020565 -0.001974\n",
              "...              ...       ...       ...       ...       ...\n",
              "2020-11-16  0.007258  0.000719  0.008720 -0.007746  0.002454\n",
              "2020-11-17 -0.014196  0.001469 -0.007564  0.003193 -0.006304\n",
              "2020-11-18 -0.011018 -0.009631 -0.011391  0.002414 -0.013202\n",
              "2020-11-19  0.003567  0.003722  0.005168  0.005978  0.009812\n",
              "2020-11-20 -0.011871 -0.005653 -0.010958  0.007366 -0.012319\n",
              "\n",
              "[1988 rows x 5 columns]"
            ]
          },
          "metadata": {
            "tags": []
          },
          "execution_count": 9
        }
      ]
    },
    {
      "cell_type": "code",
      "metadata": {
        "colab": {
          "base_uri": "https://localhost:8080/",
          "height": 204
        },
        "id": "U4CTgKsnJZxY",
        "outputId": "b386ee36-7acf-4351-95f2-f49c1c9dcc57"
      },
      "source": [
        "# Create and show the annualized covariance matrix - 252 is the no. of trading days this year\n",
        "cov_matrix_annual = returns.cov() * 252\n",
        "cov_matrix_annual\n",
        "\n",
        "# Main diagonal line shoes the variance , while other elements show the covariance btw 2 stocks\n",
        "# Since all are online companies there co-variance are +v\n",
        "# Square root of variance is - volatility"
      ],
      "execution_count": 10,
      "outputs": [
        {
          "output_type": "execute_result",
          "data": {
            "text/html": [
              "<div>\n",
              "<style scoped>\n",
              "    .dataframe tbody tr th:only-of-type {\n",
              "        vertical-align: middle;\n",
              "    }\n",
              "\n",
              "    .dataframe tbody tr th {\n",
              "        vertical-align: top;\n",
              "    }\n",
              "\n",
              "    .dataframe thead th {\n",
              "        text-align: right;\n",
              "    }\n",
              "</style>\n",
              "<table border=\"1\" class=\"dataframe\">\n",
              "  <thead>\n",
              "    <tr style=\"text-align: right;\">\n",
              "      <th></th>\n",
              "      <th>FB</th>\n",
              "      <th>AMZN</th>\n",
              "      <th>AAPL</th>\n",
              "      <th>NFLX</th>\n",
              "      <th>GOOG</th>\n",
              "    </tr>\n",
              "  </thead>\n",
              "  <tbody>\n",
              "    <tr>\n",
              "      <th>FB</th>\n",
              "      <td>0.119584</td>\n",
              "      <td>0.055535</td>\n",
              "      <td>0.045035</td>\n",
              "      <td>0.056926</td>\n",
              "      <td>0.050722</td>\n",
              "    </tr>\n",
              "    <tr>\n",
              "      <th>AMZN</th>\n",
              "      <td>0.055535</td>\n",
              "      <td>0.094919</td>\n",
              "      <td>0.040082</td>\n",
              "      <td>0.063856</td>\n",
              "      <td>0.048201</td>\n",
              "    </tr>\n",
              "    <tr>\n",
              "      <th>AAPL</th>\n",
              "      <td>0.045035</td>\n",
              "      <td>0.040082</td>\n",
              "      <td>0.081835</td>\n",
              "      <td>0.035187</td>\n",
              "      <td>0.038841</td>\n",
              "    </tr>\n",
              "    <tr>\n",
              "      <th>NFLX</th>\n",
              "      <td>0.056926</td>\n",
              "      <td>0.063856</td>\n",
              "      <td>0.035187</td>\n",
              "      <td>0.212593</td>\n",
              "      <td>0.049073</td>\n",
              "    </tr>\n",
              "    <tr>\n",
              "      <th>GOOG</th>\n",
              "      <td>0.050722</td>\n",
              "      <td>0.048201</td>\n",
              "      <td>0.038841</td>\n",
              "      <td>0.049073</td>\n",
              "      <td>0.066439</td>\n",
              "    </tr>\n",
              "  </tbody>\n",
              "</table>\n",
              "</div>"
            ],
            "text/plain": [
              "            FB      AMZN      AAPL      NFLX      GOOG\n",
              "FB    0.119584  0.055535  0.045035  0.056926  0.050722\n",
              "AMZN  0.055535  0.094919  0.040082  0.063856  0.048201\n",
              "AAPL  0.045035  0.040082  0.081835  0.035187  0.038841\n",
              "NFLX  0.056926  0.063856  0.035187  0.212593  0.049073\n",
              "GOOG  0.050722  0.048201  0.038841  0.049073  0.066439"
            ]
          },
          "metadata": {
            "tags": []
          },
          "execution_count": 10
        }
      ]
    },
    {
      "cell_type": "code",
      "metadata": {
        "colab": {
          "base_uri": "https://localhost:8080/"
        },
        "id": "9nH0A1AKJb4J",
        "outputId": "ca1d5fbf-89d3-482f-ed5e-839f23828e09"
      },
      "source": [
        "# Calculate the portfolio Variance -T means Transpose\n",
        "port_variance = np.dot(weights.T,np.dot(cov_matrix_annual,weights))\n",
        "port_variance"
      ],
      "execution_count": 11,
      "outputs": [
        {
          "output_type": "execute_result",
          "data": {
            "text/plain": [
              "0.0616915038813682"
            ]
          },
          "metadata": {
            "tags": []
          },
          "execution_count": 11
        }
      ]
    },
    {
      "cell_type": "code",
      "metadata": {
        "colab": {
          "base_uri": "https://localhost:8080/"
        },
        "id": "GOa8rMZVJd0J",
        "outputId": "6e45a1cc-4cda-41fa-a0ae-a247ba68c1ea"
      },
      "source": [
        "np.dot(cov_matrix_annual,weights)"
      ],
      "execution_count": 12,
      "outputs": [
        {
          "output_type": "execute_result",
          "data": {
            "text/plain": [
              "array([0.06556048, 0.06051872, 0.0481959 , 0.08352713, 0.05065529])"
            ]
          },
          "metadata": {
            "tags": []
          },
          "execution_count": 12
        }
      ]
    },
    {
      "cell_type": "code",
      "metadata": {
        "colab": {
          "base_uri": "https://localhost:8080/"
        },
        "id": "vcMJH1scJf5I",
        "outputId": "f8bcc57b-7d55-47bd-b834-946acf388556"
      },
      "source": [
        "# Calculate the portfolio Volatility aka std Dev\n",
        "port_volatility = np.sqrt(port_variance)\n",
        "port_volatility"
      ],
      "execution_count": 13,
      "outputs": [
        {
          "output_type": "execute_result",
          "data": {
            "text/plain": [
              "0.24837774433585671"
            ]
          },
          "metadata": {
            "tags": []
          },
          "execution_count": 13
        }
      ]
    },
    {
      "cell_type": "code",
      "metadata": {
        "colab": {
          "base_uri": "https://localhost:8080/"
        },
        "id": "UbbY83g9Jh14",
        "outputId": "59256bb1-eee4-4b2b-be84-c776a2e4de80"
      },
      "source": [
        "#Calculate the Annual Portfolio return\n",
        "portfolioSimpleAnnualReturn = np.sum(returns.mean()*weights) * 252\n",
        "portfolioSimpleAnnualReturn"
      ],
      "execution_count": 14,
      "outputs": [
        {
          "output_type": "execute_result",
          "data": {
            "text/plain": [
              "0.3581172226838558"
            ]
          },
          "metadata": {
            "tags": []
          },
          "execution_count": 14
        }
      ]
    },
    {
      "cell_type": "code",
      "metadata": {
        "colab": {
          "base_uri": "https://localhost:8080/"
        },
        "id": "jKvtHSogJjlI",
        "outputId": "e9cdd00f-cb18-4a6b-bf12-ec5030b9f4df"
      },
      "source": [
        "# Show the expected annual return volaitility(risk) and varaince\n",
        "\n",
        "percent_var = str(round(port_variance,2)*100) + '%'\n",
        "percent_vols = str(round(port_volatility,2)*100) + '%'\n",
        "percent_ret = str(round(portfolioSimpleAnnualReturn,2)*100) + '%'\n",
        "\n",
        "print('Expected annual return:' + percent_ret)\n",
        "print('Annual volatility risk ' + percent_vols)\n",
        "print('Annual Variance ' + percent_var)"
      ],
      "execution_count": 15,
      "outputs": [
        {
          "output_type": "stream",
          "text": [
            "Expected annual return:36.0%\n",
            "Annual volatility risk 25.0%\n",
            "Annual Variance 6.0%\n"
          ],
          "name": "stdout"
        }
      ]
    },
    {
      "cell_type": "code",
      "metadata": {
        "colab": {
          "base_uri": "https://localhost:8080/"
        },
        "id": "KRbzyrGWJld5",
        "outputId": "a95626e1-c4fd-4d7d-95c9-05d99a905a08"
      },
      "source": [
        "pip install PyPortfolioOpt"
      ],
      "execution_count": 16,
      "outputs": [
        {
          "output_type": "stream",
          "text": [
            "Collecting PyPortfolioOpt\n",
            "\u001b[?25l  Downloading https://files.pythonhosted.org/packages/f9/19/1f903f95e2acb95dc4b4275278a7b9f0b2cdae387d815d6219ffb46d6576/PyPortfolioOpt-1.2.7-py3-none-any.whl (48kB)\n",
            "\r\u001b[K     |██████▊                         | 10kB 13.9MB/s eta 0:00:01\r\u001b[K     |█████████████▍                  | 20kB 19.1MB/s eta 0:00:01\r\u001b[K     |████████████████████▏           | 30kB 11.9MB/s eta 0:00:01\r\u001b[K     |██████████████████████████▉     | 40kB 9.3MB/s eta 0:00:01\r\u001b[K     |████████████████████████████████| 51kB 2.6MB/s \n",
            "\u001b[?25hRequirement already satisfied: scipy<2.0,>=1.3 in /usr/local/lib/python3.6/dist-packages (from PyPortfolioOpt) (1.4.1)\n",
            "Requirement already satisfied: cvxopt<2.0,>=1.2 in /usr/local/lib/python3.6/dist-packages (from PyPortfolioOpt) (1.2.5)\n",
            "Requirement already satisfied: cvxpy<2.0,>=1.0 in /usr/local/lib/python3.6/dist-packages (from PyPortfolioOpt) (1.0.31)\n",
            "Requirement already satisfied: pandas>=0.19 in /usr/local/lib/python3.6/dist-packages (from PyPortfolioOpt) (1.1.4)\n",
            "Requirement already satisfied: numpy<2.0,>=1.12 in /usr/local/lib/python3.6/dist-packages (from PyPortfolioOpt) (1.18.5)\n",
            "Requirement already satisfied: multiprocess in /usr/local/lib/python3.6/dist-packages (from cvxpy<2.0,>=1.0->PyPortfolioOpt) (0.70.10)\n",
            "Requirement already satisfied: scs>=1.1.3 in /usr/local/lib/python3.6/dist-packages (from cvxpy<2.0,>=1.0->PyPortfolioOpt) (2.1.2)\n",
            "Requirement already satisfied: osqp>=0.4.1 in /usr/local/lib/python3.6/dist-packages (from cvxpy<2.0,>=1.0->PyPortfolioOpt) (0.6.1)\n",
            "Requirement already satisfied: ecos>=2 in /usr/local/lib/python3.6/dist-packages (from cvxpy<2.0,>=1.0->PyPortfolioOpt) (2.0.7.post1)\n",
            "Requirement already satisfied: python-dateutil>=2.7.3 in /usr/local/lib/python3.6/dist-packages (from pandas>=0.19->PyPortfolioOpt) (2.8.1)\n",
            "Requirement already satisfied: pytz>=2017.2 in /usr/local/lib/python3.6/dist-packages (from pandas>=0.19->PyPortfolioOpt) (2018.9)\n",
            "Requirement already satisfied: dill>=0.3.2 in /usr/local/lib/python3.6/dist-packages (from multiprocess->cvxpy<2.0,>=1.0->PyPortfolioOpt) (0.3.3)\n",
            "Requirement already satisfied: future in /usr/local/lib/python3.6/dist-packages (from osqp>=0.4.1->cvxpy<2.0,>=1.0->PyPortfolioOpt) (0.16.0)\n",
            "Requirement already satisfied: six>=1.5 in /usr/local/lib/python3.6/dist-packages (from python-dateutil>=2.7.3->pandas>=0.19->PyPortfolioOpt) (1.15.0)\n",
            "Installing collected packages: PyPortfolioOpt\n",
            "Successfully installed PyPortfolioOpt-1.2.7\n"
          ],
          "name": "stdout"
        }
      ]
    },
    {
      "cell_type": "code",
      "metadata": {
        "id": "PRKEK-GlJSM2"
      },
      "source": [
        "from pypfopt.efficient_frontier import EfficientFrontier\n",
        "from pypfopt import risk_models\n",
        "from pypfopt import expected_returns"
      ],
      "execution_count": 17,
      "outputs": []
    },
    {
      "cell_type": "markdown",
      "metadata": {
        "id": "L1XsbtWQMBhD"
      },
      "source": [
        "Investors study historical return data when trying to forecast future returns or to estimate how a security might react in a situation. Calculating the historical return is done by subtracting the most recent price from the oldest price and divide the result by the oldest price."
      ]
    },
    {
      "cell_type": "markdown",
      "metadata": {
        "id": "L6U5rq40L8me"
      },
      "source": [
        ""
      ]
    },
    {
      "cell_type": "code",
      "metadata": {
        "colab": {
          "base_uri": "https://localhost:8080/"
        },
        "id": "smGu80yyJSTG",
        "outputId": "89cf2fed-17c1-48e2-c4be-92ac6a828ebf"
      },
      "source": [
        "# Portfolio Optimization !\n",
        "# Calculate the expected returns and the annualised sample covariance matrix of asset returns\n",
        "\n",
        "mu = expected_returns.mean_historical_return(df)\n",
        "S = risk_models.sample_cov(df)\n",
        "\n",
        "# Optimize for max sharpe ratio\n",
        "ef = EfficientFrontier(mu,S)\n",
        "weights = ef.max_sharpe()\n",
        "cleaned_weights = ef.clean_weights()\n",
        "print(cleaned_weights)\n",
        "ef.portfolio_performance(verbose=True)\n"
      ],
      "execution_count": 21,
      "outputs": [
        {
          "output_type": "stream",
          "text": [
            "OrderedDict([('FB', 0.0966), ('AMZN', 0.31343), ('AAPL', 0.2476), ('NFLX', 0.34237), ('GOOG', 0.0)])\n",
            "Expected annual return: 41.7%\n",
            "Annual volatility: 27.5%\n",
            "Sharpe Ratio: 1.44\n"
          ],
          "name": "stdout"
        },
        {
          "output_type": "execute_result",
          "data": {
            "text/plain": [
              "(0.41650838067217394, 0.2748656355267739, 1.4425534858596434)"
            ]
          },
          "metadata": {
            "tags": []
          },
          "execution_count": 21
        }
      ]
    },
    {
      "cell_type": "code",
      "metadata": {
        "colab": {
          "base_uri": "https://localhost:8080/"
        },
        "id": "YjNX6r2EJSV6",
        "outputId": "6bcdb4fd-6e75-4818-bd83-3f23ac8898ce"
      },
      "source": [
        "#Get the discrete allocation of each share per stock\n",
        "# If you have 15000$ then allocate like the result below\n",
        "from pypfopt.discrete_allocation import DiscreteAllocation, get_latest_prices\n",
        "latest_prices = get_latest_prices(df)\n",
        "weights = cleaned_weights\n",
        "da = DiscreteAllocation(weights,latest_prices,total_portfolio_value = 15000)\n",
        "\n",
        "allocation, leftover = da.lp_portfolio()\n",
        "print('Discrete allocation:', allocation)\n",
        "print('Funds remaining: ${:.2f}'.format(leftover))"
      ],
      "execution_count": 24,
      "outputs": [
        {
          "output_type": "stream",
          "text": [
            "Discrete allocation: {'FB': 5, 'AMZN': 2, 'AAPL': 26, 'NFLX': 9}\n",
            "Funds remaining: $7.70\n"
          ],
          "name": "stdout"
        }
      ]
    },
    {
      "cell_type": "code",
      "metadata": {
        "id": "oUXGBhuHJLvW"
      },
      "source": [
        ""
      ],
      "execution_count": null,
      "outputs": []
    }
  ]
}